{
 "cells": [
  {
   "cell_type": "code",
   "execution_count": null,
   "id": "a5e59846",
   "metadata": {},
   "outputs": [],
   "source": [
    "#Q2. Write a query to display top 3 teams that had the highest Home game Opponent Score (totalled from all Home games put together).SELECT TeamName, SUM(OpponentScore) AS TotalOpponentScore\n",
    "FROM Games\n",
    "GROUP BY TeamName\n",
    "ORDER BY TotalOpponentScore DESC\n",
    "LIMIT 3;\n"
   ]
  },
  {
   "cell_type": "code",
   "execution_count": null,
   "id": "50ceb34d",
   "metadata": {},
   "outputs": [],
   "source": [
    "#Q3. Display the below table using an SQL Query from FantasyDefenseGame. Note: Total is the sum of each value across the entire data set.\n",
    "\n",
    "SELECT\n",
    "  'PointsAllowed' AS Value,\n",
    "  SUM(PointsAllowed) AS Total\n",
    "FROM\n",
    "  FantasyStats\n",
    "\n",
    "UNION\n",
    "\n",
    "SELECT\n",
    "  'SoloTackles' AS Value,\n",
    "  SUM(SoloTackles) AS Total\n",
    "FROM\n",
    "  FantasyStats\n",
    "\n",
    "UNION\n",
    "\n",
    "SELECT\n",
    "  'Sacks' AS Value,\n",
    "  SUM(Sacks) AS Total\n",
    "FROM\n",
    "  FantasyStats;\n"
   ]
  },
  {
   "cell_type": "code",
   "execution_count": null,
   "id": "1affabe3",
   "metadata": {},
   "outputs": [],
   "source": [
    "#Q4. For Season 2014: \n",
    "\n",
    "#Step 1: Create the temp table Player\n",
    "CREATE TEMPORARY TABLE Player AS\n",
    "SELECT PlayerID, Name, Team, Opponent, Position\n",
    "FROM PlayerGameMaster;\n",
    "\n",
    "#Step 2: Create the temp table Scores\n",
    "CREATE TEMPORARY TABLE Scores AS\n",
    "SELECT PlayerID, Name, Team, Opponent, Position, PassingAttempts\n",
    "FROM PlayerGameScores;\n",
    "\n",
    "#Step 3: Join the two temp tables and filter by PassingAttempts > 1\n",
    "SELECT *\n",
    "FROM Player p\n",
    "JOIN Scores s ON p.PlayerID = s.PlayerID\n",
    "WHERE s.PassingAttempts > 1;\n"
   ]
  }
 ],
 "metadata": {
  "kernelspec": {
   "display_name": "Python 3 (ipykernel)",
   "language": "python",
   "name": "python3"
  },
  "language_info": {
   "codemirror_mode": {
    "name": "ipython",
    "version": 3
   },
   "file_extension": ".py",
   "mimetype": "text/x-python",
   "name": "python",
   "nbconvert_exporter": "python",
   "pygments_lexer": "ipython3",
   "version": "3.9.7"
  }
 },
 "nbformat": 4,
 "nbformat_minor": 5
}
